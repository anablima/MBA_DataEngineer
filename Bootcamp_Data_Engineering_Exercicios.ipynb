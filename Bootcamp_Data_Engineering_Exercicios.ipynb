{
  "nbformat": 4,
  "nbformat_minor": 0,
  "metadata": {
    "colab": {
      "provenance": [],
      "include_colab_link": true
    },
    "kernelspec": {
      "name": "python3",
      "display_name": "Python 3"
    }
  },
  "cells": [
    {
      "cell_type": "markdown",
      "metadata": {
        "id": "view-in-github",
        "colab_type": "text"
      },
      "source": [
        "<a href=\"https://colab.research.google.com/github/anablima/MBA_DataEngineer/blob/main/Bootcamp_Data_Engineering_Exercicios.ipynb\" target=\"_parent\"><img src=\"https://colab.research.google.com/assets/colab-badge.svg\" alt=\"Open In Colab\"/></a>"
      ]
    },
    {
      "cell_type": "markdown",
      "metadata": {
        "id": "IkOKeo-bCZD1"
      },
      "source": [
        "# Temos duas bases de dados pessoais (fictícios)\n",
        "\n",
        "\n",
        "*   cadastro.csv (dados de cadastro)\n",
        "*   dados_medicos.csv (registros médicos)\n",
        "\n",
        "Temos que unificar as duas bases e criar uma nova base agrupada\n",
        "\n",
        "Código localizado em https://github.com/renzoziegler/data_engineering_bootcamp\n"
      ]
    },
    {
      "cell_type": "markdown",
      "metadata": {
        "id": "b0BumJeBDsHw"
      },
      "source": [
        "Exercício 1:\n",
        "\n",
        "\n",
        "*   Importar o Pandas\n",
        "*   Instalar e importar a biblioteca fuzzywuzzy (será importante mais pra frente)\n",
        "*   Ler os arquivos CSV fornecidos\n",
        "** https://raw.githubusercontent.com/renzoziegler/data_engineering_bootcamp/main/cadastro.csv\n",
        "** https://raw.githubusercontent.com/renzoziegler/data_engineering_bootcamp/main/dados_medicos.csv\n",
        "*   Realizar uma análise exploratória dos dados\n",
        "\n"
      ]
    },
    {
      "cell_type": "code",
      "execution_count": null,
      "metadata": {
        "id": "LcnIYSGts92R"
      },
      "outputs": [],
      "source": [
        "#Seu código aqui"
      ]
    },
    {
      "cell_type": "markdown",
      "metadata": {
        "id": "Djtr6rQhED2H"
      },
      "source": [
        "Para análise exploratória, vamos entender as bases de dados: seu tamanho, quais dados estão disponíveis, qual o formato deles, se estão completos ou não....."
      ]
    },
    {
      "cell_type": "code",
      "source": [
        "#Seu código aqui"
      ],
      "metadata": {
        "id": "Y9m2Yl3AiZzf"
      },
      "execution_count": null,
      "outputs": []
    },
    {
      "cell_type": "markdown",
      "metadata": {
        "id": "zMwyM1L_EndS"
      },
      "source": [
        "Exercício 2: Pré-processamento\n",
        "*   Quais tarefas vocês listam como necessárias?\n",
        " *  Padronização de campos\n",
        " *  Substituir valores\n",
        " *  Retirar caracteres especiais\n",
        "*   Listar e executar!"
      ]
    },
    {
      "cell_type": "code",
      "execution_count": null,
      "metadata": {
        "id": "O41HSbwA_rRJ"
      },
      "outputs": [],
      "source": [
        "#Seu código aqui"
      ]
    },
    {
      "cell_type": "markdown",
      "metadata": {
        "id": "_5RrDraGFFdI"
      },
      "source": [
        "Exercício 3: Indexação\n",
        "*    Listar possíveis blocking Keys\n",
        "*    Definir uma a ser utilizada\n",
        "*    Criar os blocos\n",
        "*    Listar os possíveis matches em cada bloco"
      ]
    },
    {
      "cell_type": "code",
      "source": [
        "#Seu código aqui"
      ],
      "metadata": {
        "id": "CV8v0zDy-vDU"
      },
      "execution_count": null,
      "outputs": []
    },
    {
      "cell_type": "markdown",
      "metadata": {
        "id": "B1CVKuAHFrAB"
      },
      "source": [
        "Exercício 4: Comparação par a par\n",
        "*    Desenvolver um algoritmo de comparação de cada match potencial do exercício anterior\n",
        "*    Definir uma nota de similaridade para cada comparação\n",
        " *   Para cada parâmetro"
      ]
    },
    {
      "cell_type": "code",
      "source": [
        "#Seu código aqui"
      ],
      "metadata": {
        "id": "KR2RnjmI-zlY"
      },
      "execution_count": null,
      "outputs": []
    },
    {
      "cell_type": "markdown",
      "metadata": {
        "id": "llXsKDA5GBfh"
      },
      "source": [
        "Exercício 5: Classificação\n",
        "*    Classificar cada par, baseado num threshold\n",
        "*    Definir um peso para cada parâmetro"
      ]
    },
    {
      "cell_type": "code",
      "metadata": {
        "id": "tB8MkZ4Q3QPF"
      },
      "source": [
        "#Seu código aqui"
      ],
      "execution_count": null,
      "outputs": []
    },
    {
      "cell_type": "markdown",
      "metadata": {
        "id": "jQNgFY6-GO7o"
      },
      "source": [
        "Exercício 6: Avaliação\n",
        "*     Buscar uma amostra das classificações (de 10 a 20 registros)\n",
        "*     Classificar cada uma em TP, TN, FP, FN\n",
        "*     Calcular acurácia, precisão e recall"
      ]
    },
    {
      "cell_type": "code",
      "metadata": {
        "id": "DJrHPn193FWe"
      },
      "source": [
        "#Seu código aqui"
      ],
      "execution_count": null,
      "outputs": []
    }
  ]
}